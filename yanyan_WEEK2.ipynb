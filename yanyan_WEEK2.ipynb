{
  "nbformat": 4,
  "nbformat_minor": 0,
  "metadata": {
    "colab": {
      "provenance": [],
      "include_colab_link": true
    },
    "kernelspec": {
      "name": "python3",
      "display_name": "Python 3"
    },
    "language_info": {
      "name": "python"
    }
  },
  "cells": [
    {
      "cell_type": "markdown",
      "metadata": {
        "id": "view-in-github",
        "colab_type": "text"
      },
      "source": [
        "<a href=\"https://colab.research.google.com/github/kithski1/pythonn/blob/main/yanyan_WEEK2.ipynb\" target=\"_parent\"><img src=\"https://colab.research.google.com/assets/colab-badge.svg\" alt=\"Open In Colab\"/></a>"
      ]
    },
    {
      "cell_type": "code",
      "execution_count": null,
      "metadata": {
        "id": "y45nPQ9FVlcu"
      },
      "outputs": [],
      "source": [
        "import random as r"
      ]
    },
    {
      "cell_type": "code",
      "source": [
        "def card():\n",
        "  random_card = r.randint(1,13)\n",
        "  return random_card"
      ],
      "metadata": {
        "id": "hL01li5mVvxA"
      },
      "execution_count": null,
      "outputs": []
    },
    {
      "cell_type": "code",
      "source": [
        "def hilo():\n",
        "  print(\"Let's play Hi-Lo!\")\n",
        "  score = 150\n",
        "\n",
        "  while score > 0:\n",
        "    first_card = card()\n",
        "    print('\\n')\n",
        "    print(\"The card is: \", first_card)\n",
        "    ans = input(\"higher or lower? [h/l] \").lower()\n",
        "    next_card = card()\n",
        "    print(\"Next card was: \", next_card)\n",
        "\n",
        "    if ans == 'h' and next_card > first_card:\n",
        "      score += 100\n",
        "      print(\"Your score is: \", score)\n",
        "\n",
        "      if score > 0 and input('Play Again? [y/n] ').lower() == 'y':\n",
        "        continue;\n",
        "    \n",
        "      else:\n",
        "        print('\\n')\n",
        "        print(\"Play again next time!\")\n",
        "        break;\n",
        "\n",
        "    if ans == 'l' and next_card < first_card:\n",
        "      score += 100\n",
        "      print(\"Your score is: \", score)\n",
        "\n",
        "      if score > 0 and input('Play Again? [y/n] ').lower() == 'y':\n",
        "        continue;\n",
        "    \n",
        "      else:\n",
        "        print('\\n')\n",
        "        print(\"Play again next time!\")\n",
        "        break;\n",
        "\n",
        "    if ans == 'h' and next_card < first_card:\n",
        "      score -= 75\n",
        "      print(\"Your score is: \", score)\n",
        "\n",
        "      if score > 0 and input('Play Again? [y/n] ').lower() == 'y':\n",
        "        continue;\n",
        "    \n",
        "      else:\n",
        "        print('\\n')\n",
        "        print(\"Play again next time!\")\n",
        "        break;\n",
        "\n",
        "    if ans == 'l' and next_card > first_card:\n",
        "      score -= 75\n",
        "      print(\"Your score is: \", score)\n",
        "\n",
        "      if score > 0 and input('Play Again? [y/n] ').lower() == 'y':\n",
        "        continue;\n",
        "    \n",
        "      else:\n",
        "        print('\\n')\n",
        "        print(\"Play again next time!\")\n",
        "        break;"
      ],
      "metadata": {
        "id": "7LlUWXdvWCH8"
      },
      "execution_count": null,
      "outputs": []
    },
    {
      "cell_type": "code",
      "source": [],
      "metadata": {
        "id": "WCBqCrOIRff7"
      },
      "execution_count": null,
      "outputs": []
    },
    {
      "cell_type": "code",
      "source": [
        "def main():\n",
        "  hilo()\n",
        "\n",
        "if __name__ == \"__main__\":\n",
        "    main()"
      ],
      "metadata": {
        "colab": {
          "base_uri": "https://localhost:8080/"
        },
        "id": "X2XcUixhbhOq",
        "outputId": "254d336d-3b62-4751-9363-2a09ee9268cf"
      },
      "execution_count": null,
      "outputs": [
        {
          "output_type": "stream",
          "name": "stdout",
          "text": [
            "Let's play Hi-Lo!\n",
            "\n",
            "\n",
            "The card is:  10\n",
            "higher or lower? [h/l] h\n",
            "Next card was:  13\n",
            "Your score is:  250\n",
            "Play Again? [y/n] y\n",
            "\n",
            "\n",
            "The card is:  3\n",
            "higher or lower? [h/l] l\n",
            "Next card was:  4\n",
            "Your score is:  175\n",
            "Play Again? [y/n] y\n",
            "\n",
            "\n",
            "The card is:  7\n",
            "higher or lower? [h/l] l\n",
            "Next card was:  10\n",
            "Your score is:  100\n",
            "Play Again? [y/n] n\n",
            "\n",
            "\n",
            "Play again next time!\n"
          ]
        }
      ]
    }
  ]
}