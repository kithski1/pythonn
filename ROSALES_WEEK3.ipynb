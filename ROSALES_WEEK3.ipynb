{
  "nbformat": 4,
  "nbformat_minor": 0,
  "metadata": {
    "colab": {
      "provenance": [],
      "include_colab_link": true
    },
    "kernelspec": {
      "name": "python3",
      "display_name": "Python 3"
    },
    "language_info": {
      "name": "python"
    }
  },
  "cells": [
    {
      "cell_type": "markdown",
      "metadata": {
        "id": "view-in-github",
        "colab_type": "text"
      },
      "source": [
        "<a href=\"https://colab.research.google.com/github/kithski1/pythonn/blob/main/ROSALES_WEEK3.ipynb\" target=\"_parent\"><img src=\"https://colab.research.google.com/assets/colab-badge.svg\" alt=\"Open In Colab\"/></a>"
      ]
    },
    {
      "cell_type": "code",
      "execution_count": null,
      "metadata": {
        "id": "adUhQT6_APEb"
      },
      "outputs": [],
      "source": [
        "word_list = [\n",
        "    'mantika',\n",
        "    'sabaw',\n",
        "    'chicken',\n",
        "    'manok',\n",
        "    'python',\n",
        "    'superidol',\n",
        "    'javascript',\n",
        "    'adobo'\n",
        "]"
      ]
    },
    {
      "cell_type": "code",
      "source": [
        "import random\n",
        "\n",
        "from numpy import indices"
      ],
      "metadata": {
        "id": "8uXrRfL-ASZH"
      },
      "execution_count": null,
      "outputs": []
    },
    {
      "cell_type": "code",
      "source": [
        "def get_word():\n",
        "    word = random.choice(word_list)\n",
        "    return word.upper()"
      ],
      "metadata": {
        "id": "PqzvFyFRAUyN"
      },
      "execution_count": null,
      "outputs": []
    },
    {
      "cell_type": "code",
      "source": [
        "def display_jumper(tries):\n",
        "    stages = [\n",
        "         \"\"\"\n",
        "          x\n",
        "         /|\\\\\n",
        "         / \\\\\n",
        "        \"\"\",\n",
        "        \"\"\"\n",
        "         \\ /\n",
        "          0\n",
        "         /|\\\\\n",
        "         / \\\\\n",
        "        \"\"\",\n",
        "        \"\"\"\n",
        "        \\   /\n",
        "         \\ /\n",
        "          0\n",
        "         /|\\\\\n",
        "         / \\\\\n",
        "        \"\"\",\n",
        "        \"\"\"           \n",
        "          __\\\\\n",
        "        \\   /\n",
        "         \\ /\n",
        "          0\n",
        "         /|\\\\\n",
        "         / \\\\\n",
        "        \"\"\",\n",
        "         \"\"\"\n",
        "          __\n",
        "         ___\\\\\n",
        "        \\   /\n",
        "         \\ /\n",
        "          0\n",
        "         /|\\\\\n",
        "         / \\\\\n",
        "        \"\"\",\n",
        "        \"\"\"\n",
        "         ___\n",
        "        /___\\\\\n",
        "        \\   /\n",
        "         \\ /\n",
        "          0\n",
        "         /|\\\\\n",
        "         / \\\\\n",
        "             \n",
        "        \"\"\",\n",
        "    ]\n",
        "    return stages[tries]"
      ],
      "metadata": {
        "id": "VDPjk_edAhCv"
      },
      "execution_count": null,
      "outputs": []
    },
    {
      "cell_type": "code",
      "source": [
        "def play(word):\n",
        "    word_completion = \"_\" * len(word)\n",
        "    guessed = False\n",
        "    guessed_letters = []\n",
        "    guessed_words = []\n",
        "    tries = 5\n",
        "    print(\"Let's play Jumpman!\")\n",
        "    print(word_completion)\n",
        "    print(display_jumper(tries))\n",
        "    print('\\n')\n",
        "    \n",
        "    while not guessed and tries > 0:\n",
        "        guess = input('guess a letter or word: ').upper()\n",
        "        if len(guess) == 1 and guess.isalpha():\n",
        "            if guess in guessed_letters:\n",
        "                print(\"already guessed \", guess)\n",
        "        \n",
        "            elif guess not in word:\n",
        "                print(guess, 'oops not in the word')\n",
        "                tries -= 1\n",
        "                guessed_letters.append(guess)\n",
        "            \n",
        "            else:\n",
        "                print('Nice One! ', guess, ' is in the word!')\n",
        "                guessed_letters.append(guess)\n",
        "                word_as_list = list(word_completion)\n",
        "                indices = [i for i, letter in enumerate(word) if letter == guess]\n",
        "                for index in indices:\n",
        "                    word_as_list[index] = guess\n",
        "                word_completion = \"\".join(word_as_list)\n",
        "                if \"_\" not in word_completion:\n",
        "                    guessed = True\n",
        "        \n",
        "        elif len(guess) == len(word) and guess.isalpha():\n",
        "            if guess in guessed_words:\n",
        "                print(\"Oops already guessed \", guess)\n",
        "                \n",
        "            elif guess != word:\n",
        "                print(guess, ' engk not the word sorry')\n",
        "                tries -= 1\n",
        "                guessed_words.append(guess)\n",
        "            \n",
        "            else:\n",
        "                guessed = True\n",
        "                word_completion = word\n",
        "                \n",
        "        else:\n",
        "            print('Oops not a valid guess')\n",
        "        \n",
        "        print(\"Let's play Jumpman!\")\n",
        "        print(word_completion)\n",
        "        print(display_jumper(tries))\n",
        "        print('\\n')\n",
        "        \n",
        "    if guessed:\n",
        "        print(\"WOOOAHHH, Nice one! you got the word right!\")    \n",
        "    \n",
        "    else:\n",
        "        print('Awwweee no more tries ' + word + '. Maybe next time')"
      ],
      "metadata": {
        "id": "CYfTEleZAW81"
      },
      "execution_count": null,
      "outputs": []
    },
    {
      "cell_type": "code",
      "source": [
        "def main():\n",
        "    word = get_word()\n",
        "    play(word)\n",
        "    while input('Play Again? (Y/N) ').upper() == 'Y':\n",
        "        word =  get_word()\n",
        "        play(word)\n",
        "        \n",
        "        \n",
        "if __name__ == \"__main__\":\n",
        "    main()"
      ],
      "metadata": {
        "id": "LNKPt-_GAcU_"
      },
      "execution_count": null,
      "outputs": []
    }
  ]
}